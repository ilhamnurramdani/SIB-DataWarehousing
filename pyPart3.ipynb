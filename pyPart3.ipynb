{
  "nbformat": 4,
  "nbformat_minor": 0,
  "metadata": {
    "colab": {
      "provenance": []
    },
    "kernelspec": {
      "name": "python3",
      "display_name": "Python 3"
    },
    "language_info": {
      "name": "python"
    }
  },
  "cells": [
    {
      "cell_type": "markdown",
      "source": [
        "Pertanyaan 1:\n",
        "“https://raw.githubusercontent.com/selva86/datasets/master/BostonHousing.csv”\n",
        "\n",
        "Baca dataset Boston Housing dari URL yang diberikan dan simpan dalam DataFrame.\n",
        "Tampilkan informasi umum tentang dataset tersebut.\n",
        "Berapa jumlah total baris dan kolom dalam dataset ini?\n"
      ],
      "metadata": {
        "id": "uW0_njqfVXNq"
      }
    },
    {
      "cell_type": "code",
      "execution_count": 44,
      "metadata": {
        "id": "5on1J7BTTc5t",
        "colab": {
          "base_uri": "https://localhost:8080/"
        },
        "outputId": "cf363097-c05f-41d8-cc1c-955a698b71a5"
      },
      "outputs": [
        {
          "output_type": "stream",
          "name": "stdout",
          "text": [
            "informasi umum tentang dataset tersebut\n",
            "---------------------------------------\n",
            "<class 'pandas.core.frame.DataFrame'>\n",
            "RangeIndex: 506 entries, 0 to 505\n",
            "Data columns (total 14 columns):\n",
            " #   Column   Non-Null Count  Dtype  \n",
            "---  ------   --------------  -----  \n",
            " 0   crim     506 non-null    float64\n",
            " 1   zn       506 non-null    float64\n",
            " 2   indus    506 non-null    float64\n",
            " 3   chas     506 non-null    int64  \n",
            " 4   nox      506 non-null    float64\n",
            " 5   rm       506 non-null    float64\n",
            " 6   age      506 non-null    float64\n",
            " 7   dis      506 non-null    float64\n",
            " 8   rad      506 non-null    int64  \n",
            " 9   tax      506 non-null    int64  \n",
            " 10  ptratio  506 non-null    float64\n",
            " 11  b        506 non-null    float64\n",
            " 12  lstat    506 non-null    float64\n",
            " 13  medv     506 non-null    float64\n",
            "dtypes: float64(11), int64(3)\n",
            "memory usage: 55.5 KB\n",
            "jumlah total baris dan kolom dalam dataset ini\n",
            "---------------------------------------\n",
            "jumlah total baris: 506\n",
            "jumlah total kolom: 14\n"
          ]
        }
      ],
      "source": [
        "import pandas as pd\n",
        "\n",
        "df = pd.read_csv('BostonHousing.csv')\n",
        "print(\"informasi umum tentang dataset tersebut\")\n",
        "print(\"---------------------------------------\")\n",
        "df.info()\n",
        "jumlahBaris, jumlahKolom = df.shape\n",
        "print(\"jumlah total baris dan kolom dalam dataset ini\")\n",
        "print(\"---------------------------------------\")\n",
        "print(f\"jumlah total baris: {jumlahBaris}\")\n",
        "print(f\"jumlah total kolom: {jumlahKolom}\")"
      ]
    },
    {
      "cell_type": "markdown",
      "source": [
        "Pertanyaan 2:\n",
        "Tampilkan deskripsi statistik dari dataset untuk melihat ringkasan dari nilai-nilai numerik.\n",
        "Apa nilai rata-rata, median, dan deviasi standar dari variabel AGE?\n"
      ],
      "metadata": {
        "id": "SuDrkJgeW6Sh"
      }
    },
    {
      "cell_type": "code",
      "source": [
        "print(\"deskripsi statistik dari dataset\")\n",
        "print(\"---------------------------------\")\n",
        "print(df.describe())\n",
        "\n",
        "mean_age = df['age'].mean()\n",
        "median_age = df['age'].median()\n",
        "std_age = df['age'].std()\n",
        "\n",
        "print(f\"Nilai Rata-rata dari variabel AGE adalah : {mean_age}\")\n",
        "print(f\"Nilai median dari variabel AGE adalah : {median_age}\")\n",
        "print(f\"Nilai deviasi standar dari variabel AGE adalah : {std_age}\")"
      ],
      "metadata": {
        "colab": {
          "base_uri": "https://localhost:8080/"
        },
        "id": "3uWhSDvjW9MG",
        "outputId": "93b01b45-0480-408a-ae66-b22a178eeed6"
      },
      "execution_count": 45,
      "outputs": [
        {
          "output_type": "stream",
          "name": "stdout",
          "text": [
            "deskripsi statistik dari dataset\n",
            "---------------------------------\n",
            "             crim          zn       indus        chas         nox          rm  \\\n",
            "count  506.000000  506.000000  506.000000  506.000000  506.000000  506.000000   \n",
            "mean     3.613524   11.363636   11.136779    0.069170    0.554695    6.284634   \n",
            "std      8.601545   23.322453    6.860353    0.253994    0.115878    0.702617   \n",
            "min      0.006320    0.000000    0.460000    0.000000    0.385000    3.561000   \n",
            "25%      0.082045    0.000000    5.190000    0.000000    0.449000    5.885500   \n",
            "50%      0.256510    0.000000    9.690000    0.000000    0.538000    6.208500   \n",
            "75%      3.677083   12.500000   18.100000    0.000000    0.624000    6.623500   \n",
            "max     88.976200  100.000000   27.740000    1.000000    0.871000    8.780000   \n",
            "\n",
            "              age         dis         rad         tax     ptratio           b  \\\n",
            "count  506.000000  506.000000  506.000000  506.000000  506.000000  506.000000   \n",
            "mean    68.574901    3.795043    9.549407  408.237154   18.455534  356.674032   \n",
            "std     28.148861    2.105710    8.707259  168.537116    2.164946   91.294864   \n",
            "min      2.900000    1.129600    1.000000  187.000000   12.600000    0.320000   \n",
            "25%     45.025000    2.100175    4.000000  279.000000   17.400000  375.377500   \n",
            "50%     77.500000    3.207450    5.000000  330.000000   19.050000  391.440000   \n",
            "75%     94.075000    5.188425   24.000000  666.000000   20.200000  396.225000   \n",
            "max    100.000000   12.126500   24.000000  711.000000   22.000000  396.900000   \n",
            "\n",
            "            lstat        medv  \n",
            "count  506.000000  506.000000  \n",
            "mean    12.653063   22.532806  \n",
            "std      7.141062    9.197104  \n",
            "min      1.730000    5.000000  \n",
            "25%      6.950000   17.025000  \n",
            "50%     11.360000   21.200000  \n",
            "75%     16.955000   25.000000  \n",
            "max     37.970000   50.000000  \n",
            "Nilai Rata-rata dari variabel AGE adalah : 68.57490118577076\n",
            "Nilai median dari variabel AGE adalah : 77.5\n",
            "Nilai deviasi standar dari variabel AGE adalah : 28.148861406903617\n"
          ]
        }
      ]
    },
    {
      "cell_type": "markdown",
      "source": [
        "Pertanyaan 3:\n",
        "Lakukan filtering untuk memperoleh baris-baris di mana nilai RM (jumlah kamar) lebih besar dari 6 dan MEDV (harga median rumah) lebih besar dari 25.\n",
        "Berapa jumlah total baris yang memenuhi kriteria tersebut?\n"
      ],
      "metadata": {
        "id": "ZcAaBjp_aDRZ"
      }
    },
    {
      "cell_type": "code",
      "source": [
        "df_rm_medv = df[(df['rm'] > 6) & (df['medv'] > 25)]\n",
        "totalBaris =  len(df_rm_medv)\n",
        "print(f\"jumlah total baris yang memenuhi kriteria tersebut adalah : {totalBaris}\")"
      ],
      "metadata": {
        "colab": {
          "base_uri": "https://localhost:8080/"
        },
        "id": "jOnfRrUlaFhz",
        "outputId": "87b3144a-0606-4843-feac-7e52ebe9322a"
      },
      "execution_count": 46,
      "outputs": [
        {
          "output_type": "stream",
          "name": "stdout",
          "text": [
            "jumlah total baris yang memenuhi kriteria tersebut adalah : 119\n"
          ]
        }
      ]
    },
    {
      "cell_type": "markdown",
      "source": [
        "Pertanyaan 4:\n",
        "Tampilkan ringkasan statistik untuk harga rumah (MEDV) hanya untuk baris-baris yang memiliki nilai CHAS (dekat dengan sungai) sama dengan 1.\n"
      ],
      "metadata": {
        "id": "CIQtm2cCdS5T"
      }
    },
    {
      "cell_type": "code",
      "source": [
        "df_chas = df[df['chas'] == 1]\n",
        "desc_medv = df_chas['medv'].describe()\n",
        "print(f\" ringkasan statistik untuk harga rumah (MEDV) yang memiliki nilai CHAS (dekat dengan sungai) sama dengan 1 :\")\n",
        "desc_medv"
      ],
      "metadata": {
        "colab": {
          "base_uri": "https://localhost:8080/"
        },
        "id": "YVH5nuiodWVC",
        "outputId": "887a83bf-35d9-4486-a09f-4009ad92be66"
      },
      "execution_count": 58,
      "outputs": [
        {
          "output_type": "stream",
          "name": "stdout",
          "text": [
            " ringkasan statistik untuk harga rumah (MEDV) yang memiliki nilai CHAS (dekat dengan sungai) sama dengan 1 :\n"
          ]
        },
        {
          "output_type": "execute_result",
          "data": {
            "text/plain": [
              "count    35.000000\n",
              "mean     28.440000\n",
              "std      11.816643\n",
              "min      13.400000\n",
              "25%      21.100000\n",
              "50%      23.300000\n",
              "75%      33.150000\n",
              "max      50.000000\n",
              "Name: medv, dtype: float64"
            ]
          },
          "metadata": {},
          "execution_count": 58
        }
      ]
    },
    {
      "cell_type": "markdown",
      "source": [
        "Pertanyaan 5:\n",
        "Lakukan filtering untuk memperoleh baris-baris di mana nilai RAD (pemudahan akses ke jalan raya) kurang dari atau sama dengan 5 dan nilai TAX (pajak properti) lebih dari 400.\n",
        "Berapa jumlah total baris yang memenuhi kriteria tersebut?\n"
      ],
      "metadata": {
        "id": "CWCvRMlMgA7p"
      }
    },
    {
      "cell_type": "code",
      "source": [
        "df_rad_tax = df[(df['rad'] <= 5) & (df['tax'] > 400)]\n",
        "totallBaris = len(df_rad_tax)\n",
        "print(f\"jumlah total baris yang memenuhi kriteria tersebut:{totallBaris}\")"
      ],
      "metadata": {
        "colab": {
          "base_uri": "https://localhost:8080/"
        },
        "id": "hN88pMHDgAhp",
        "outputId": "6296c311-d0bd-4ee3-8e57-e80682c341ed"
      },
      "execution_count": 60,
      "outputs": [
        {
          "output_type": "stream",
          "name": "stdout",
          "text": [
            "jumlah total baris yang memenuhi kriteria tersebut:59\n"
          ]
        }
      ]
    }
  ]
}